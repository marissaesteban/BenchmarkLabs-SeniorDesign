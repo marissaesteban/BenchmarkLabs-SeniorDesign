{
 "cells": [
  {
   "cell_type": "code",
   "execution_count": 1,
   "metadata": {},
   "outputs": [
    {
     "name": "stderr",
     "output_type": "stream",
     "text": [
      "Importing plotly failed. Interactive plots will not work.\n"
     ]
    }
   ],
   "source": [
    "# import libraries needed\n",
    "from seebuoy import NDBC\n",
    "from IPython.display import display\n",
    "import pandas as pd\n",
    "pd.set_option('display.max_columns', None)\n",
    "import matplotlib.pyplot as plt\n",
    "import seaborn as sns\n",
    "import numpy as np\n",
    "from scipy.stats import norm, skew, probplot\n",
    "from scipy.special import boxcox1p\n",
    "import warnings\n",
    "warnings.filterwarnings('ignore')\n",
    "from sklearn.impute import SimpleImputer\n",
    "from sklearn.preprocessing import LabelEncoder\n",
    "import sys\n",
    "from sklearn.linear_model import Lasso\n",
    "from sklearn.ensemble import RandomForestRegressor\n",
    "from sklearn.linear_model import LinearRegression\n",
    "from sklearn.model_selection import KFold, cross_val_score\n",
    "from sklearn.metrics import mean_squared_error\n",
    "from sklearn.tree import DecisionTreeRegressor\n",
    "from sklearn.neighbors import KNeighborsRegressor\n",
    "from sklearn.model_selection import TimeSeriesSplit\n",
    "from sklearn.linear_model import ElasticNet\n",
    "from sklearn.ensemble import RandomForestRegressor\n",
    "from sklearn.linear_model import LinearRegression\n",
    "from sklearn.model_selection import KFold, cross_val_score\n",
    "from sklearn.metrics import mean_squared_error\n",
    "from sklearn.tree import DecisionTreeRegressor\n",
    "from sklearn.neighbors import KNeighborsRegressor\n",
    "from datetime import datetime, timedelta\n",
    "from prophet import Prophet"
   ]
  },
  {
   "cell_type": "code",
   "execution_count": 2,
   "metadata": {},
   "outputs": [],
   "source": [
    "def rmse(y_true, y_pred):\n",
    "    \"\"\"\n",
    "    Compute Root Mean Squared Error (RMSE).\n",
    "    \n",
    "    Parameters:\n",
    "    y_true : array-like of shape (n_samples,)\n",
    "        Ground truth (correct) target values.\n",
    "        \n",
    "    y_pred : array-like of shape (n_samples,)\n",
    "        Estimated target values.\n",
    "\n",
    "    Returns:\n",
    "    float\n",
    "        The RMSE value.\n",
    "    \"\"\"\n",
    "    return np.sqrt(np.mean((y_true - y_pred) ** 2))"
   ]
  },
  {
   "cell_type": "code",
   "execution_count": 7,
   "metadata": {},
   "outputs": [],
   "source": [
    "def buoySetUp(buoyNum):  \n",
    "    ndbc = NDBC(timeframe=\"historical\")\n",
    "    df_avail = ndbc.available_data(station_id=buoyNum)\n",
    "    df_data = ndbc.get_data(buoyNum)\n",
    "        \n",
    "    df_data.dropna(axis=1, how='all', inplace=True)\n",
    "    df_data = df_data.reset_index()\n",
    "\n",
    "    if 'wave_height' not in df_data.columns or 'average_period' not in df_data.columns:\n",
    "        print(\"Not enough data\")\n",
    "        return False\n",
    "\n",
    "    # lets limit the df to 2 columns: date and wave height\n",
    "    buoy_df = df_data[[\"date\",\"wave_height\", \"average_period\"]]\n",
    "\n",
    "    # Set 'date' column as the index\n",
    "    buoy_df = buoy_df.set_index(\"date\")\n",
    "\n",
    "    buoy_df['wave_height_interpolated'] = buoy_df['wave_height'].interpolate(method='time') # interpolate missing values based on time\n",
    "    buoy_df['average_period_interpolated'] = buoy_df['average_period'].interpolate(method='time') # interpolate missing values based on time\n",
    "\n",
    "    return buoy_df\n"
   ]
  },
  {
   "cell_type": "code",
   "execution_count": 4,
   "metadata": {},
   "outputs": [],
   "source": [
    "def doit(f, c, target, buoyNum):\n",
    "    \"\"\"\n",
    "    Parameters:\n",
    "    f : floor value, how many days back to train the model on\n",
    "\n",
    "    c : ceiling value, how many days we want to predict for (want 10-15 days)\n",
    "\n",
    "    target : either \"wave_height\" or \"average_period\". Variable we want to traiun and predict on.\n",
    "    \"\"\"\n",
    "    buoy_df = buoySetUp(buoyNum)\n",
    "\n",
    "    if type(buoy_df) == bool:\n",
    "        return\n",
    "\n",
    "    buoy_df = buoy_df.reset_index()\n",
    "\n",
    "    if target != \"wave_height\" and target != \"average_period\":\n",
    "        print(\"Not a valid target variable\")\n",
    "        return\n",
    "\n",
    "    #Sets up date objects and floor and ceiling\n",
    "    today_date = datetime.today().date()\n",
    "    floor = f + c\n",
    "    ceiling = c\n",
    "\n",
    "    # Calculate the floordate and the ceiling date\n",
    "    floorDate = today_date - timedelta(days=floor)\n",
    "    ceilingDate = today_date - timedelta(days=ceiling)\n",
    "\n",
    "    # Splits up the df into recent and past\n",
    "    # Recent holds the 15 most recent days of data\n",
    "    # Past holds all data from the floor to the ceiling\n",
    "    recent_df = buoy_df[buoy_df['date'] > pd.Timestamp(ceilingDate)]\n",
    "    past_df = buoy_df[(buoy_df['date'] > pd.Timestamp(floorDate)) & (buoy_df['date'] < pd.Timestamp(ceilingDate))]\n",
    "\n",
    "    #Sets up the modeling df with the date and target variable column as well as the cap for logistic growth prophet algo\n",
    "    modeling_df = past_df[[\"date\",f'{target}_interpolated']]\n",
    "    modeling_df = modeling_df.rename(columns={\"date\": \"ds\", f'{target}_interpolated': \"y\"})\n",
    "    cap = modeling_df['y'].max() + 1\n",
    "\n",
    "    # Initialize Prophet model with the cap\n",
    "    model = Prophet(growth=\"logistic\")\n",
    "    modeling_df['cap'] = cap\n",
    "    model.fit(modeling_df)\n",
    "\n",
    "    #Makes prediction\n",
    "    future = model.make_future_dataframe(periods=ceiling)\n",
    "    future['cap'] = cap\n",
    "    forecast = model.predict(future)\n",
    "\n",
    "    forecast['date'] = forecast['ds']\n",
    "    merged_df = pd.merge(forecast.tail(15), recent_df, on='date', how='left')\n",
    "\n",
    "    print(f\"RMSE for {buoyNum} for {ceiling} days using {floor - 15} days worth of training data for {target}\")\n",
    "    print(rmse(merged_df[f'{target}_interpolated'], merged_df[\"yhat\"]))\n",
    "    print()"
   ]
  },
  {
   "cell_type": "code",
   "execution_count": 5,
   "metadata": {},
   "outputs": [
    {
     "name": "stdout",
     "output_type": "stream",
     "text": [
      "Not enough data\n"
     ]
    }
   ],
   "source": [
    "doit(365, 15, \"wave_height\", \"41064\")"
   ]
  },
  {
   "cell_type": "code",
   "execution_count": 6,
   "metadata": {},
   "outputs": [
    {
     "name": "stderr",
     "output_type": "stream",
     "text": [
      "14:34:20 - cmdstanpy - INFO - Chain [1] start processing\n",
      "14:34:26 - cmdstanpy - INFO - Chain [1] done processing\n"
     ]
    },
    {
     "name": "stdout",
     "output_type": "stream",
     "text": [
      "RMSE for 46239 for 15 days using 365 days worth of training data for average_period\n",
      "1.5782466136886855\n",
      "\n"
     ]
    },
    {
     "name": "stderr",
     "output_type": "stream",
     "text": [
      "14:34:41 - cmdstanpy - INFO - Chain [1] start processing\n",
      "14:34:47 - cmdstanpy - INFO - Chain [1] done processing\n"
     ]
    },
    {
     "name": "stdout",
     "output_type": "stream",
     "text": [
      "RMSE for 46258 for 15 days using 365 days worth of training data for average_period\n",
      "1.7075612441443435\n",
      "\n"
     ]
    },
    {
     "name": "stderr",
     "output_type": "stream",
     "text": [
      "14:35:11 - cmdstanpy - INFO - Chain [1] start processing\n",
      "14:35:28 - cmdstanpy - INFO - Chain [1] done processing\n"
     ]
    },
    {
     "name": "stdout",
     "output_type": "stream",
     "text": [
      "RMSE for 46232 for 15 days using 365 days worth of training data for average_period\n",
      "1.43403613958504\n",
      "\n"
     ]
    },
    {
     "name": "stderr",
     "output_type": "stream",
     "text": [
      "14:36:09 - cmdstanpy - INFO - Chain [1] start processing\n",
      "14:36:44 - cmdstanpy - INFO - Chain [1] done processing\n"
     ]
    },
    {
     "name": "stdout",
     "output_type": "stream",
     "text": [
      "RMSE for 42001 for 15 days using 365 days worth of training data for average_period\n",
      "1.217700567548797\n",
      "\n"
     ]
    },
    {
     "name": "stderr",
     "output_type": "stream",
     "text": [
      "14:37:29 - cmdstanpy - INFO - Chain [1] start processing\n",
      "14:38:13 - cmdstanpy - INFO - Chain [1] done processing\n"
     ]
    },
    {
     "name": "stdout",
     "output_type": "stream",
     "text": [
      "RMSE for 41002 for 15 days using 365 days worth of training data for average_period\n",
      "1.0701111993389985\n",
      "\n"
     ]
    },
    {
     "name": "stderr",
     "output_type": "stream",
     "text": [
      "14:38:36 - cmdstanpy - INFO - Chain [1] start processing\n",
      "14:38:49 - cmdstanpy - INFO - Chain [1] done processing\n"
     ]
    },
    {
     "name": "stdout",
     "output_type": "stream",
     "text": [
      "RMSE for 44097 for 15 days using 365 days worth of training data for average_period\n",
      "1.1053278190668125\n",
      "\n"
     ]
    },
    {
     "name": "stderr",
     "output_type": "stream",
     "text": [
      "14:39:25 - cmdstanpy - INFO - Chain [1] start processing\n",
      "14:40:13 - cmdstanpy - INFO - Chain [1] done processing\n"
     ]
    },
    {
     "name": "stdout",
     "output_type": "stream",
     "text": [
      "RMSE for 44009 for 15 days using 365 days worth of training data for average_period\n",
      "0.8160995611196501\n",
      "\n"
     ]
    }
   ],
   "source": [
    "buoy_list = [\"46239\", \"46258\", \"46232\", \"42001\", \"41002\", \"44097\", \"44009\"]\n",
    "\n",
    "\n",
    "for buoyNum in buoy_list:\n",
    "    doit(365, 15, \"average_period\", buoyNum)"
   ]
  }
 ],
 "metadata": {
  "kernelspec": {
   "display_name": "Python 3.11.0 ('.venv': venv)",
   "language": "python",
   "name": "python3"
  },
  "language_info": {
   "codemirror_mode": {
    "name": "ipython",
    "version": 3
   },
   "file_extension": ".py",
   "mimetype": "text/x-python",
   "name": "python",
   "nbconvert_exporter": "python",
   "pygments_lexer": "ipython3",
   "version": "3.11.0"
  },
  "orig_nbformat": 4,
  "vscode": {
   "interpreter": {
    "hash": "418da822878bf5e9e939dfb4ad40fe672876b0467fe6e10ad67d81e9a42cb991"
   }
  }
 },
 "nbformat": 4,
 "nbformat_minor": 2
}
